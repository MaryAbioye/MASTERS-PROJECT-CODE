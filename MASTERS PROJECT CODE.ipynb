{
 "cells": [
  {
   "cell_type": "code",
   "execution_count": null,
   "id": "fa89cb74-713e-4a3c-9f57-cc4db9f6b54c",
   "metadata": {},
   "outputs": [],
   "source": [
    "import numpy as np\n",
    "import pandas as pd \n",
    "import matplotlib.pyplot as plt \n",
    "import seaborn as sns "
   ]
  },
  {
   "cell_type": "code",
   "execution_count": null,
   "id": "905647fe-ac18-4e39-aa89-c2a16df0e1d8",
   "metadata": {},
   "outputs": [],
   "source": [
    "true = pd.read_csv(\"True.csv\")"
   ]
  },
  {
   "cell_type": "code",
   "execution_count": null,
   "id": "125d0903-e27d-4ab1-9faa-5ea8e2eeb083",
   "metadata": {},
   "outputs": [],
   "source": [
    "true.head()"
   ]
  },
  {
   "cell_type": "code",
   "execution_count": null,
   "id": "a105175a-50e3-4865-a8e7-01551346c32e",
   "metadata": {},
   "outputs": [],
   "source": [
    "fake = pd.read_csv(\"Fake.csv\")"
   ]
  },
  {
   "cell_type": "code",
   "execution_count": null,
   "id": "7707b8a6-a693-4d14-83c0-d7b14ed607ed",
   "metadata": {},
   "outputs": [],
   "source": [
    "fake.head()"
   ]
  },
  {
   "cell_type": "code",
   "execution_count": null,
   "id": "6324a3b3-cb42-4575-933c-e2c5903ee1f9",
   "metadata": {},
   "outputs": [],
   "source": [
    "# Add target column\n",
    "true['target'] = 1  # or 'true'\n",
    "fake['target'] = 0  # or 'fake'\n",
    "\n",
    "# Combine the datasets\n",
    "df = pd.concat([true,fake], ignore_index=True)\n",
    "\n",
    "# Shuffle the data\n",
    "df = df.sample(frac=1).reset_index(drop=True)\n",
    "\n",
    "# Save the combined dataset\n",
    "df.to_csv(\"combined_dataset.csv\", index=False)"
   ]
  },
  {
   "cell_type": "code",
   "execution_count": null,
   "id": "04e99645-cc45-4b3b-9872-2d3a3deec876",
   "metadata": {},
   "outputs": [],
   "source": [
    "df = pd.read_csv(\"combined_dataset.csv\")"
   ]
  },
  {
   "cell_type": "code",
   "execution_count": null,
   "id": "a9b9bbe2-0cef-472e-9945-c38813653d18",
   "metadata": {},
   "outputs": [],
   "source": [
    "df.head()"
   ]
  },
  {
   "cell_type": "code",
   "execution_count": null,
   "id": "b6aa1454-54e5-446a-ba9d-7912b20580d2",
   "metadata": {},
   "outputs": [],
   "source": [
    "df['target'].value_counts()"
   ]
  },
  {
   "cell_type": "code",
   "execution_count": null,
   "id": "881dae1f-67af-4748-85d1-d65b357cf879",
   "metadata": {},
   "outputs": [],
   "source": [
    "df.info()"
   ]
  },
  {
   "cell_type": "code",
   "execution_count": null,
   "id": "724332cd-98e1-4734-b013-074756be4110",
   "metadata": {},
   "outputs": [],
   "source": [
    "!pip install wordcloud"
   ]
  },
  {
   "cell_type": "code",
   "execution_count": null,
   "id": "b887575f-d147-4f1d-90e3-9491d084fccf",
   "metadata": {},
   "outputs": [],
   "source": [
    "import nltk\n",
    "from nltk.corpus import stopwords\n",
    "from wordcloud import WordCloud\n",
    "from sklearn.model_selection import train_test_split\n",
    "from sklearn.feature_extraction.text import TfidfVectorizer"
   ]
  },
  {
   "cell_type": "code",
   "execution_count": null,
   "id": "b347c76a-e12b-4dd2-adfb-ab90b42a26c3",
   "metadata": {},
   "outputs": [],
   "source": [
    "df.info()"
   ]
  },
  {
   "cell_type": "code",
   "execution_count": null,
   "id": "197cfcce-4db8-42e6-b548-55181b41ec0a",
   "metadata": {},
   "outputs": [],
   "source": [
    "sns.countplot(x='target', data=df)\n",
    "plt.title('Class Distribution')\n",
    "plt.show()\n"
   ]
  },
  {
   "cell_type": "code",
   "execution_count": null,
   "id": "23db8a69-45aa-47b1-a863-dbd991a4d5be",
   "metadata": {},
   "outputs": [],
   "source": [
    "plt.figure(figsize=(12, 6))  # Width and height in inches\n",
    "sns.countplot(x='subject', hue='target', data=df)\n",
    "plt.title('Subject-wise Distribution')\n",
    "plt.show()"
   ]
  },
  {
   "cell_type": "code",
   "execution_count": null,
   "id": "c43f0b63-a401-4746-a469-021480e8a015",
   "metadata": {},
   "outputs": [],
   "source": [
    "# For Real News\n",
    "real_words = ' '.join(df[df['target'] == 1]['text'])\n",
    "real_wordcloud = WordCloud(width=800, height=500, random_state=21, max_font_size=110).generate(real_words)\n",
    "plt.figure(figsize=(10, 7))\n",
    "plt.imshow(real_wordcloud, interpolation=\"bilinear\")\n",
    "plt.axis('off')\n",
    "plt.title(\"Most Frequent Words in Real News\")\n",
    "plt.show()"
   ]
  },
  {
   "cell_type": "code",
   "execution_count": null,
   "id": "0cc9acfc-ca61-4492-a808-810b02d0a03d",
   "metadata": {},
   "outputs": [],
   "source": [
    "# For Fake News\n",
    "fake_words = ' '.join(df[df['target'] == 0]['text'])\n",
    "fake_wordcloud = WordCloud(width=800, height=500, random_state=21, max_font_size=110).generate(fake_words)\n",
    "plt.figure(figsize=(10, 7))\n",
    "plt.imshow(fake_wordcloud, interpolation=\"bilinear\")\n",
    "plt.axis('off')\n",
    "plt.title(\"Most Frequent Words in Fake News\")\n",
    "plt.show()"
   ]
  },
  {
   "cell_type": "code",
   "execution_count": null,
   "id": "d70b4152-8b69-46cf-845e-0daf18043191",
   "metadata": {},
   "outputs": [],
   "source": [
    "nltk.download('stopwords')\n",
    "stop_words = set(stopwords.words('english'))\n",
    "\n",
    "# Tokenize and remove stopwords\n",
    "df['cleaned_text'] = df['text'].apply(lambda x: ' '.join([word for word in x.split() if word.lower() not in stop_words]))"
   ]
  },
  {
   "cell_type": "code",
   "execution_count": null,
   "id": "aa415e95-a05e-4885-a156-25c9c84d9942",
   "metadata": {},
   "outputs": [],
   "source": [
    "df['cleaned_text'] "
   ]
  },
  {
   "cell_type": "code",
   "execution_count": null,
   "id": "4223ef4e-4465-45af-a7cc-a6860c417ff7",
   "metadata": {},
   "outputs": [],
   "source": [
    "X = df['cleaned_text']\n",
    "y = df['target']\n",
    "\n",
    "X_train, X_test, y_train, y_test = train_test_split(X, y, test_size=0.2, random_state=42)\n",
    "\n",
    "tfidf_vectorizer = TfidfVectorizer(stop_words='english', max_df=0.7)\n",
    "X_train_tfidf = tfidf_vectorizer.fit_transform(X_train)\n",
    "X_test_tfidf = tfidf_vectorizer.transform(X_test)\n"
   ]
  },
  {
   "cell_type": "code",
   "execution_count": null,
   "id": "a9b4fc45-7601-4f21-8764-9fe248879a42",
   "metadata": {},
   "outputs": [],
   "source": [
    "from sklearn.model_selection import train_test_split\n",
    "from sklearn.feature_extraction.text import TfidfVectorizer\n",
    "from sklearn.tree import DecisionTreeClassifier\n",
    "from sklearn.neighbors import KNeighborsClassifier\n",
    "from sklearn.ensemble import RandomForestClassifier\n",
    "from sklearn.naive_bayes import MultinomialNB\n",
    "from sklearn.svm import SVC\n",
    "from sklearn.metrics import accuracy_score, precision_score, recall_score, f1_score"
   ]
  },
  {
   "cell_type": "code",
   "execution_count": null,
   "id": "8ab8a435-3fa5-4c74-8d01-15edf0af50bf",
   "metadata": {},
   "outputs": [],
   "source": [
    "# Decision Tree\n",
    "clf_tree = DecisionTreeClassifier()\n",
    "clf_tree.fit(X_train_tfidf, y_train)\n",
    "y_pred_tree = clf_tree.predict(X_test_tfidf)"
   ]
  },
  {
   "cell_type": "code",
   "execution_count": null,
   "id": "ae06a9ec-d0b9-49f9-8dff-e2f8d2751672",
   "metadata": {},
   "outputs": [],
   "source": [
    "# KNN\n",
    "clf_knn = KNeighborsClassifier()\n",
    "clf_knn.fit(X_train_tfidf, y_train)\n",
    "y_pred_knn = clf_knn.predict(X_test_tfidf)"
   ]
  },
  {
   "cell_type": "code",
   "execution_count": null,
   "id": "816f41eb-d56e-42b7-ac73-d6c3ff03ce79",
   "metadata": {},
   "outputs": [],
   "source": [
    "# Random Forest\n",
    "clf_rf = RandomForestClassifier()\n",
    "clf_rf.fit(X_train_tfidf, y_train)\n",
    "y_pred_rf = clf_rf.predict(X_test_tfidf)"
   ]
  },
  {
   "cell_type": "code",
   "execution_count": null,
   "id": "e7ba38a9-2aaf-4aaf-ba5d-70447e5b1c9d",
   "metadata": {},
   "outputs": [],
   "source": [
    "# Naive Bayes\n",
    "clf_nb = MultinomialNB()\n",
    "clf_nb.fit(X_train_tfidf, y_train)\n",
    "y_pred_nb = clf_nb.predict(X_test_tfidf)"
   ]
  },
  {
   "cell_type": "code",
   "execution_count": null,
   "id": "9b65a593-f6e5-4873-9c22-031d85d15dbb",
   "metadata": {},
   "outputs": [],
   "source": [
    "# SVM\n",
    "clf_svm = SVC()\n",
    "clf_svm.fit(X_train_tfidf, y_train)\n",
    "y_pred_svm = clf_svm.predict(X_test_tfidf)"
   ]
  },
  {
   "cell_type": "code",
   "execution_count": null,
   "id": "7e524c57-0e4c-43fc-af41-85774cc4210b",
   "metadata": {},
   "outputs": [],
   "source": [
    "models = ['Decision Tree', 'KNN', 'Random Forest', 'Naive Bayes', 'SVM']\n",
    "predictions = [y_pred_tree, y_pred_knn, y_pred_rf, y_pred_nb, y_pred_svm]\n",
    "\n",
    "for i, model in enumerate(models):\n",
    "    print(f\"Performance Metrics for {model}:\")\n",
    "    print(\"Accuracy:\", accuracy_score(y_test, predictions[i]))\n",
    "    print(\"Precision:\", precision_score(y_test, predictions[i]))\n",
    "    print(\"Recall:\", recall_score(y_test, predictions[i]))\n",
    "    print(\"F1 Score:\", f1_score(y_test, predictions[i]))\n"
   ]
  },
  {
   "cell_type": "code",
   "execution_count": null,
   "id": "2076e41d-8507-422e-8a41-b21b6a59bec2",
   "metadata": {},
   "outputs": [],
   "source": [
    "from sklearn.model_selection import GridSearchCV\n",
    "\n",
    "# Hyperparameter grid\n",
    "param_grid = {\n",
    "    'n_estimators': [50, 100, 200],\n",
    "    'max_depth': [None, 30, 50, 100],\n",
    "    'min_samples_split': [2, 5, 10]\n",
    "}\n",
    "\n",
    "# Create the GridSearchCV object\n",
    "grid_search = GridSearchCV(estimator=RandomForestClassifier(),\n",
    "                           param_grid=param_grid,\n",
    "                           cv=5,  # 5-fold cross-validation\n",
    "                           verbose=2,  # print progress\n",
    "                           n_jobs=-1)  # use all processors\n",
    "\n",
    "# Fit the model\n",
    "grid_search.fit(X_train_tfidf, y_train)\n",
    "\n",
    "# Get the best parameters and model\n",
    "best_params = grid_search.best_params_\n",
    "best_model = grid_search.best_estimator_\n",
    "\n",
    "print(f\"Best parameters: {best_params}\")\n"
   ]
  },
  {
   "cell_type": "code",
   "execution_count": null,
   "id": "d3f6555b-dbe0-496d-b886-06a544863c90",
   "metadata": {},
   "outputs": [],
   "source": [
    "# Use the best model to make predictions on the test set\n",
    "y_pred_final = best_model.predict(X_test_tfidf)\n",
    "\n",
    "# Evaluate the final model\n",
    "print(\"Final Model Performance Metrics:\")\n",
    "print(\"Accuracy:\", accuracy_score(y_test, y_pred_final))\n",
    "print(\"Precision:\", precision_score(y_test, y_pred_final))\n",
    "print(\"Recall:\", recall_score(y_test, y_pred_final))\n",
    "print(\"F1 Score:\", f1_score(y_test, y_pred_final))"
   ]
  }
 ],
 "metadata": {
  "kernelspec": {
   "display_name": "Python 3 (ipykernel)",
   "language": "python",
   "name": "python3"
  },
  "language_info": {
   "codemirror_mode": {
    "name": "ipython",
    "version": 3
   },
   "file_extension": ".py",
   "mimetype": "text/x-python",
   "name": "python",
   "nbconvert_exporter": "python",
   "pygments_lexer": "ipython3",
   "version": "3.9.13"
  }
 },
 "nbformat": 4,
 "nbformat_minor": 5
}
